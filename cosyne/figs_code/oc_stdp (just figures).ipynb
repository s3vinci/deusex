{
 "cells": [
  {
   "cell_type": "code",
   "execution_count": 1,
   "metadata": {
    "collapsed": false
   },
   "outputs": [
    {
     "ename": "SyntaxError",
     "evalue": "invalid syntax (<ipython-input-1-502f6421783a>, line 1)",
     "output_type": "error",
     "traceback": [
      "\u001b[0;36m  File \u001b[0;32m\"<ipython-input-1-502f6421783a>\"\u001b[0;36m, line \u001b[0;32m1\u001b[0m\n\u001b[0;31m    from olfactory_valence - stdp test import *\u001b[0m\n\u001b[0m                           ^\u001b[0m\n\u001b[0;31mSyntaxError\u001b[0m\u001b[0;31m:\u001b[0m invalid syntax\n"
     ]
    }
   ],
   "source": [
    "from olfactory_valence - stdp test import *"
   ]
  },
  {
   "cell_type": "code",
   "execution_count": 4,
   "metadata": {
    "collapsed": false
   },
   "outputs": [
    {
     "name": "stdout",
     "output_type": "stream",
     "text": [
      "\u001b[31m June 1- 8 June Adding the approach and retreat neurons and integrator.ipynb\u001b[m\u001b[m*\r\n",
      "GUI Fly.ipynb\r\n",
      "Icon?\r\n",
      "\u001b[34mOld vers\u001b[m\u001b[m/\r\n",
      "September Groove.ipynb\r\n",
      "\u001b[34mSimulations for Feedback\u001b[m\u001b[m/\r\n",
      "Transfer Document Redux.ipynb\r\n",
      "\u001b[34mTransfer Papers\u001b[m\u001b[m/\r\n",
      "\u001b[34mTransfer Report\u001b[m\u001b[m/\r\n",
      "Transfer Thesis.ipynb\r\n",
      "\u001b[34mbackup-wifi\u001b[m\u001b[m/\r\n",
      "confess.txt\r\n",
      "constants.py\r\n",
      "constants.pyc\r\n",
      "constants_longt.py\r\n",
      "constants_longt.pyc\r\n",
      "\u001b[34mcosyne work\u001b[m\u001b[m/\r\n",
      "\u001b[34mdata\u001b[m\u001b[m/\r\n",
      "fig4_lateral_hz.eps\r\n",
      "fly_mb_long_t.py\r\n",
      "fly_mb_long_t.pyc\r\n",
      "fly_mb_output_clean.py\r\n",
      "magnificent_plot.gnu\r\n",
      "magnificent_plot.gnu.save\r\n",
      "new_plot.gnu\r\n",
      "new_simulations_spike.ipynb\r\n",
      "olfactory valence  - stdp test ( Just  figures).ipynb\r\n",
      "\u001b[31molfactory_network.py\u001b[m\u001b[m*\r\n",
      "palete.pal\r\n",
      "params_values.txt\r\n",
      "\u001b[34mphd thesis\u001b[m\u001b[m/\r\n",
      "\u001b[34mresults\u001b[m\u001b[m/\r\n",
      "thesis.py\r\n",
      "thesis.pyc\r\n",
      "valence_plots.py\r\n",
      "valence_plots.pyc\r\n",
      "xkcd stye plots.ipynb\r\n"
     ]
    }
   ],
   "source": [
    "    ls"
   ]
  },
  {
   "cell_type": "code",
   "execution_count": null,
   "metadata": {
    "collapsed": true
   },
   "outputs": [],
   "source": []
  }
 ],
 "metadata": {
  "kernelspec": {
   "display_name": "Python 2",
   "language": "python",
   "name": "python2"
  },
  "language_info": {
   "codemirror_mode": {
    "name": "ipython",
    "version": 2
   },
   "file_extension": ".py",
   "mimetype": "text/x-python",
   "name": "python",
   "nbconvert_exporter": "python",
   "pygments_lexer": "ipython2",
   "version": "2.7.9"
  }
 },
 "nbformat": 4,
 "nbformat_minor": 0
}
